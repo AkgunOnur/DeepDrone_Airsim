{
 "cells": [
  {
   "cell_type": "code",
   "execution_count": 1,
   "metadata": {},
   "outputs": [],
   "source": [
    "from scipy.spatial.transform import Rotation as R"
   ]
  },
  {
   "cell_type": "code",
   "execution_count": 9,
   "metadata": {},
   "outputs": [
    {
     "data": {
      "text/plain": [
       "array([[[ 1.11022302e-16, -7.07106781e-01,  7.07106781e-01],\n",
       "        [ 8.66025404e-01, -3.53553391e-01, -3.53553391e-01],\n",
       "        [ 5.00000000e-01,  6.12372436e-01,  6.12372436e-01]]])"
      ]
     },
     "execution_count": 9,
     "metadata": {},
     "output_type": "execute_result"
    }
   ],
   "source": [
    "r = R.from_euler('zyx', [[90, 45, 30]], degrees=True)\n",
    "r.as_euler('zyx', degrees=True)\n",
    "r.as_dcm()"
   ]
  },
  {
   "cell_type": "code",
   "execution_count": 12,
   "metadata": {},
   "outputs": [
    {
     "data": {
      "text/plain": [
       "array([90.00000003, 44.99999999, 29.99999998])"
      ]
     },
     "execution_count": 12,
     "metadata": {},
     "output_type": "execute_result"
    }
   ],
   "source": [
    "r = R.from_dcm([[ 1.11022302e-16, -7.07106781e-01,  7.07106781e-01],\n",
    "        [ 8.66025404e-01, -3.53553391e-01, -3.53553391e-01],\n",
    "        [ 5.00000000e-01,  6.12372436e-01,  6.12372436e-01]])\n",
    "r.as_euler('zyx', degrees=True)"
   ]
  },
  {
   "cell_type": "code",
   "execution_count": null,
   "metadata": {},
   "outputs": [],
   "source": []
  }
 ],
 "metadata": {
  "kernelspec": {
   "display_name": "Python 2",
   "language": "python",
   "name": "python2"
  },
  "language_info": {
   "codemirror_mode": {
    "name": "ipython",
    "version": 2
   },
   "file_extension": ".py",
   "mimetype": "text/x-python",
   "name": "python",
   "nbconvert_exporter": "python",
   "pygments_lexer": "ipython2",
   "version": "2.7.16"
  }
 },
 "nbformat": 4,
 "nbformat_minor": 2
}
